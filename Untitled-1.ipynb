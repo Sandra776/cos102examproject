{
 "cells": [
  {
   "cell_type": "code",
   "execution_count": 16,
   "id": "5290c658",
   "metadata": {},
   "outputs": [],
   "source": [
    "import tkinter as tk\n",
    "from PIL import Image, ImageTk\n",
    "\n",
    "\n",
    "\n",
    "window= tk.Tk()\n",
    "window.geometry('700x500')\n",
    "window.config(bg='black')\n",
    "icon = Image.open('m.jpg')\n",
    "i= icon.resize((250,650))\n",
    "icon2 = ImageTk.PhotoImage(i)\n",
    "frame= tk.Frame(window,width=50,padx=0,pady=0)\n",
    "frame.pack(side='left',fill='y')\n",
    "label = tk.Label(frame,image=icon2)\n",
    "label.pack(side='left',fill='y')\n",
    "window.mainloop()"
   ]
  },
  {
   "cell_type": "code",
   "execution_count": null,
   "id": "2cef25c4",
   "metadata": {},
   "outputs": [],
   "source": []
  },
  {
   "cell_type": "code",
   "execution_count": null,
   "id": "4fb1278e",
   "metadata": {},
   "outputs": [],
   "source": []
  }
 ],
 "metadata": {
  "kernelspec": {
   "display_name": "base",
   "language": "python",
   "name": "python3"
  },
  "language_info": {
   "codemirror_mode": {
    "name": "ipython",
    "version": 3
   },
   "file_extension": ".py",
   "mimetype": "text/x-python",
   "name": "python",
   "nbconvert_exporter": "python",
   "pygments_lexer": "ipython3",
   "version": "3.12.7"
  }
 },
 "nbformat": 4,
 "nbformat_minor": 5
}
