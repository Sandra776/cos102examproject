{
 "cells": [
  {
   "cell_type": "code",
   "execution_count": null,
   "id": "d00e44cc",
   "metadata": {},
   "outputs": [],
   "source": [
    "import tkinter as tk"
   ]
  }
 ],
 "metadata": {
  "language_info": {
   "name": "python"
  }
 },
 "nbformat": 4,
 "nbformat_minor": 5
}
